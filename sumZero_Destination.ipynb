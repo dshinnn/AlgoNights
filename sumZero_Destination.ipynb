{
 "cells": [
  {
   "cell_type": "code",
   "execution_count": null,
   "id": "797687a1",
   "metadata": {},
   "outputs": [],
   "source": [
    "# Given an integer n, return any array containing n unique integers such that they add up to 0.\n",
    "# Input: n = 5\n",
    "# Output: [-7,-1,1,3,4]\n",
    "# Explanation: These arrays also are accepted [-5,-1,1,2,3] , [-3,-1,2,-2,4].\n",
    "# 1 <= n <= 1000"
   ]
  },
  {
   "cell_type": "code",
   "execution_count": 1,
   "id": "f2f74913",
   "metadata": {},
   "outputs": [],
   "source": [
    "# input: even\n",
    "# [1, 2, -1, -2] # 4\n",
    "# [5, 7, 8, -5, -7, -8] # 6\n",
    "\n",
    "# input: odd\n",
    "# [1, 2, 0, -1, -2] # 5\n",
    "\n",
    "# range(1, 1001)\n",
    "# input: 4 / 2 = 2 add to the list \n",
    "# [1, 2] .append(list * -1)"
   ]
  },
  {
   "cell_type": "code",
   "execution_count": 71,
   "id": "9b3c1f71",
   "metadata": {
    "scrolled": true
   },
   "outputs": [
    {
     "name": "stdout",
     "output_type": "stream",
     "text": [
      "[1, -1, 2, -2, 3, -3, 4, -4]\n"
     ]
    }
   ],
   "source": [
    "def sumZero(n):\n",
    "    a_list = []\n",
    "    # if odd start with 0\n",
    "    if n % 2 == 1:\n",
    "        a_list.append(0)\n",
    "    \n",
    "    # if even don't add 0 and append both the negative and positive number of each number\n",
    "    for i in range(1, int((n/2)+1)):\n",
    "        a_list.append(i)\n",
    "        a_list.append(-i)\n",
    "    print(a_list)\n",
    "sumZero(8)"
   ]
  },
  {
   "cell_type": "code",
   "execution_count": 61,
   "id": "a5ce98b1",
   "metadata": {
    "scrolled": true
   },
   "outputs": [
    {
     "data": {
      "text/plain": [
       "'Sao Paulo'"
      ]
     },
     "execution_count": 61,
     "metadata": {},
     "output_type": "execute_result"
    }
   ],
   "source": [
    "def destCity(path):\n",
    "    # Unpack put everything in one list\n",
    "    # Make into a set and find the starting point\n",
    "    # The second one will be the destination\n",
    "    \n",
    "    # Unpacking cities and putting it into one list\n",
    "    a_list = []\n",
    "    for a, b in path:\n",
    "        a_list.append(a)\n",
    "        a_list.append(b)\n",
    "\n",
    "    # Finding the cities that only show up once\n",
    "    b_list = []\n",
    "    for c in a_list:\n",
    "        if a_list.count(c) == 1:\n",
    "            b_list.append(c)\n",
    "    # returns the destination since the destination is always last  \n",
    "    return b_list[1]\n",
    "        \n",
    "    \n",
    "destCity([[\"London\",\"New York\"],[\"New York\",\"Lima\"],[\"Lima\",\"Sao Paulo\"]])"
   ]
  },
  {
   "cell_type": "code",
   "execution_count": 57,
   "id": "277c7093",
   "metadata": {},
   "outputs": [
    {
     "data": {
      "text/plain": [
       "'A'"
      ]
     },
     "execution_count": 57,
     "metadata": {},
     "output_type": "execute_result"
    }
   ],
   "source": [
    "destCity([[\"B\",\"C\"],[\"D\",\"B\"],[\"C\",\"A\"]])"
   ]
  }
 ],
 "metadata": {
  "kernelspec": {
   "display_name": "Python 3",
   "language": "python",
   "name": "python3"
  },
  "language_info": {
   "codemirror_mode": {
    "name": "ipython",
    "version": 3
   },
   "file_extension": ".py",
   "mimetype": "text/x-python",
   "name": "python",
   "nbconvert_exporter": "python",
   "pygments_lexer": "ipython3",
   "version": "3.8.8"
  },
  "toc": {
   "base_numbering": 1,
   "nav_menu": {},
   "number_sections": true,
   "sideBar": true,
   "skip_h1_title": false,
   "title_cell": "Table of Contents",
   "title_sidebar": "Contents",
   "toc_cell": false,
   "toc_position": {},
   "toc_section_display": true,
   "toc_window_display": false
  }
 },
 "nbformat": 4,
 "nbformat_minor": 5
}
